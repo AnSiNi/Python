{
 "cells": [
  {
   "cell_type": "markdown",
   "id": "bbc5928d",
   "metadata": {},
   "source": [
    "### Функции (Домашняя работа)\n"
   ]
  },
  {
   "cell_type": "code",
   "execution_count": 2,
   "id": "f2ba71d5",
   "metadata": {},
   "outputs": [],
   "source": [
    "global documents, directories\n",
    "#документы\n",
    "documents = [\n",
    "{'type': 'passport', 'number': '2207 876234', 'name': 'Василий Гупкин'},\n",
    "{'type': 'invoice', 'number': '11-2', 'name': 'Геннадий Покемонов'},\n",
    "{'type': 'insurance', 'number': '10006', 'name': 'Аристарх Павлов'}\n",
    "]\n",
    "#полки\n",
    "directories = {\n",
    "'1': ['2207 876234', '11-2'],\n",
    "'2': ['10006'],\n",
    "'3': []    \n",
    "}"
   ]
  },
  {
   "cell_type": "code",
   "execution_count": 3,
   "id": "61a9dba6",
   "metadata": {},
   "outputs": [],
   "source": [
    "def doc_owner_num():\n",
    "    \"\"\"\n",
    "    doc_owner_num()\n",
    "    Функция выводит владельца документа по номеру документа.\n",
    "    Номер документа вводится пользователем (может быть числом или строкой).    \n",
    "    \"\"\"\n",
    "    nm = ''\n",
    "    doc_num = str(input('Введите номер документа:'))\n",
    "    nm = list({ el['name'] for el in documents if el['number'] == doc_num } ) \n",
    "    \n",
    "    if nm == []:\n",
    "        print('Документ ',doc_num,' не найден в базе!')\n",
    "    else:\n",
    "        print(''.join(nm))"
   ]
  },
  {
   "cell_type": "code",
   "execution_count": 4,
   "id": "8369fe0e",
   "metadata": {},
   "outputs": [],
   "source": [
    "def nom_pol(nom_doc):\n",
    "    \"\"\"\n",
    "    nom_pol\n",
    "    Функция выводит номер полки стеллажа, на которой хранится документ.\n",
    "    Поиск по номеру документа. Без письменного описания\n",
    "    \"\"\" \n",
    "    nom_p=''\n",
    "    nom = nom_doc\n",
    "    for key,el in directories.items():\n",
    "        for nm in range(len(el)):\n",
    "            if el[nm] == nom:\n",
    "               nom_p = ''.join(key)\n",
    "    return nom_p\n",
    "   "
   ]
  },
  {
   "cell_type": "code",
   "execution_count": 5,
   "id": "37b696b2",
   "metadata": {},
   "outputs": [],
   "source": [
    "def nom_stell():\n",
    "    \"\"\"\n",
    "    nom_stell\n",
    "    Функция выводит номер полки стеллажа, на которой хранится документ.\n",
    "    Поиск по номеру документа.\n",
    "    \"\"\" \n",
    "    #nom_p=''\n",
    "    nom = str(input('Введите номер документа:'))\n",
    "    nom_p = nom_pol(nom)\n",
    "\n",
    "    if nom_p == '':\n",
    "        print('Полка с документом',nom,'не найдена!')\n",
    "    else:\n",
    "        print('Документ',nom,'находится на полке №',nom_p)"
   ]
  },
  {
   "cell_type": "code",
   "execution_count": 6,
   "id": "f9aa80dc",
   "metadata": {},
   "outputs": [],
   "source": [
    "def all_docs():\n",
    "    \"\"\"\n",
    "    all_docs\n",
    "    Вывод всех документов, которые есть в БД.\n",
    "    \"\"\"\n",
    "    for key in documents:\n",
    "        print('№:',key['number'],', тип:',key['type'],', владелец:',key['name'],', полка хранения:',nom_pol(key['number']))\n"
   ]
  },
  {
   "cell_type": "code",
   "execution_count": 7,
   "id": "5ae67833",
   "metadata": {},
   "outputs": [],
   "source": [
    "def add_pol():\n",
    "    \"\"\"\n",
    "    add_pol\n",
    "    Добавление полки по ее номеру. Есл такая полка уже есть, то новая не добавится.\n",
    "    \"\"\"\n",
    "    pol = str(input('Введите номер полки:'))\n",
    "    \n",
    "    if pol in list(directories.keys()):\n",
    "        print('Такая полка уже существует. Текущий перечень полок:',','.join(list(directories.keys())))        \n",
    "    else:\n",
    "        directories.setdefault(pol, [])\n",
    "        spis_pol = list(directories.keys())\n",
    "        spis_pol.sort()\n",
    "        print('Полка добавлена. Текущий перечень полок:',','.join(spis_pol))\n",
    "    "
   ]
  },
  {
   "cell_type": "code",
   "execution_count": 8,
   "id": "6db851df",
   "metadata": {},
   "outputs": [],
   "source": [
    "def del_pol():\n",
    "    pol = str(input('Введите номер полки:'))\n",
    "\n",
    "    if len(directories.get(pol,'')) != 0:\n",
    "        print('На полке есть документы, удалите их перед удалением полки. Текущий перечень полок:',\\\n",
    "              ','.join(list(directories.keys())))\n",
    "    elif directories.get(pol,'-') == []:\n",
    "        del(directories[pol])\n",
    "        print('Полка удалена. Текущий перечень полок:',','.join(list(directories.keys())))\n",
    "    else:\n",
    "        print('Такой полки не существует. Текущий перечень полок:',','.join(list(directories.keys())))"
   ]
  },
  {
   "cell_type": "code",
   "execution_count": 9,
   "id": "b0f07d8d",
   "metadata": {},
   "outputs": [],
   "source": [
    "def main_docs():\n",
    "    \"\"\"\n",
    "    Программа автоматизации рабочего места секретаря\n",
    "    Список команд:\n",
    "    q - выход\n",
    "    p - узнать владельца документа по его номеру\n",
    "    s - по номеру документа узнать на какой полке он хранится\n",
    "    l - увидеть полную информацию по всем документам\n",
    "    as - добавить новую полку\n",
    "    ds - удалить существующую полку из данных (только если она пустая)\n",
    "    \"\"\"\n",
    "    command = str(input('Введите команду:'))\n",
    "    while command != 'q':\n",
    "        if command == 'p':\n",
    "            doc_owner_num()\n",
    "            command = str(input('Введите команду:'))\n",
    "            continue\n",
    "        elif command == 's':\n",
    "            nom_stell()\n",
    "            command = str(input('Введите команду:'))\n",
    "            continue\n",
    "        elif command == 'l':\n",
    "            all_docs()\n",
    "            command = str(input('Введите команду:'))\n",
    "            continue\n",
    "        elif command == 'as':\n",
    "            add_pol()\n",
    "            command = str(input('Введите команду:'))\n",
    "            continue\n",
    "        elif command == 'ds':\n",
    "            del_pol()\n",
    "            command = str(input('Введите команду:'))\n",
    "            continue\n",
    "        else:\n",
    "            command = str(input('Такой команды нет. Введите команду:'))\n",
    "    print('Выход')"
   ]
  },
  {
   "cell_type": "code",
   "execution_count": 10,
   "id": "077ec803",
   "metadata": {},
   "outputs": [
    {
     "name": "stdout",
     "output_type": "stream",
     "text": [
      "Введите команду:к\n",
      "Такой команды нет. Введите команду:s\n",
      "Введите номер документа:11-2\n",
      "Документ 11-2 находится на полке № 1\n",
      "Введите команду:l\n",
      "№: 2207 876234 , тип: passport , владелец: Василий Гупкин , полка хранения: 1\n",
      "№: 11-2 , тип: invoice , владелец: Геннадий Покемонов , полка хранения: 1\n",
      "№: 10006 , тип: insurance , владелец: Аристарх Павлов , полка хранения: 2\n",
      "Введите команду:as\n",
      "Введите номер полки:5\n",
      "Полка добавлена. Текущий перечень полок: 1,2,3,5\n",
      "Введите команду:ds\n",
      "Введите номер полки:5\n",
      "Полка удалена. Текущий перечень полок: 1,2,3\n",
      "Введите команду:h\n",
      "Такой команды нет. Введите команду:q\n",
      "Выход\n"
     ]
    }
   ],
   "source": [
    "main_docs()"
   ]
  },
  {
   "cell_type": "code",
   "execution_count": null,
   "id": "e2146988",
   "metadata": {},
   "outputs": [],
   "source": []
  }
 ],
 "metadata": {
  "kernelspec": {
   "display_name": "Python 3",
   "language": "python",
   "name": "python3"
  },
  "language_info": {
   "codemirror_mode": {
    "name": "ipython",
    "version": 3
   },
   "file_extension": ".py",
   "mimetype": "text/x-python",
   "name": "python",
   "nbconvert_exporter": "python",
   "pygments_lexer": "ipython3",
   "version": "3.8.8"
  }
 },
 "nbformat": 4,
 "nbformat_minor": 5
}
