{
 "cells": [
  {
   "cell_type": "code",
   "execution_count": 2,
   "id": "58f7361b",
   "metadata": {},
   "outputs": [
    {
     "name": "stdout",
     "output_type": "stream",
     "text": [
      "[98, 35, 15, 213, 54, 119]\n"
     ]
    }
   ],
   "source": [
    "#Задание1\n",
    "ids = {'user1': [213, 213, 213, 15, 213],\n",
    "       'user2': [54, 54, 119, 119, 119],\n",
    "       'user3': [213, 98, 98, 35]}\n",
    "st=set()\n",
    "for val in ids.values():\n",
    "    st=st.union(val)\n",
    "print(list(st))\n"
   ]
  },
  {
   "cell_type": "code",
   "execution_count": 126,
   "id": "aef6674b",
   "metadata": {},
   "outputs": [
    {
     "name": "stdout",
     "output_type": "stream",
     "text": [
      "Поисковых запросов, содержащих  4  слов(а): 50.0\n",
      "Поисковых запросов, содержащих  3  слов(а): 37.5\n",
      "Поисковых запросов, содержащих  1  слов(а): 12.5\n"
     ]
    }
   ],
   "source": [
    "#Задание2\n",
    "queries = [\n",
    "'смотреть сериалы онлайн',\n",
    "'новости спорта',\n",
    "'афиша кино',\n",
    "'курс доллара',\n",
    "'сериалы этим летом',\n",
    "'курс по питону',\n",
    "'сериалы про спорт',\n",
    "'сериалы про животных и насекомых'\n",
    "]\n",
    "l=len(queries)\n",
    "st_dict={}\n",
    "c=0\n",
    "for i in range(l):\n",
    "    c=len(queries[i].split(' '))\n",
    "    if c in st_dict.keys():\n",
    "           st_dict[c]+=1\n",
    "    else:\n",
    "        st_dict[c]=1\n",
    "\n",
    "for n in st_dict.keys():\n",
    "    print('Поисковых запросов, содержащих ',st_dict[n],' слов(а):',(st_dict[n]/l)*100)"
   ]
  },
  {
   "cell_type": "code",
   "execution_count": 135,
   "id": "902c119c",
   "metadata": {},
   "outputs": [
    {
     "name": "stdout",
     "output_type": "stream",
     "text": [
      "{'vk': {'revenue': 103, 'cost': 98, 'ROI': 5.102040816326525}, 'yandex': {'revenue': 179, 'cost': 153, 'ROI': 16.99346405228759}, 'facebook': {'revenue': 103, 'cost': 110, 'ROI': -6.36363636363636}, 'adwords': {'revenue': 35, 'cost': 34, 'ROI': 2.941176470588225}, 'twitter': {'revenue': 11, 'cost': 24, 'ROI': -54.16666666666667}}\n"
     ]
    }
   ],
   "source": [
    "#Задание3\n",
    "results = {\n",
    "'vk': {'revenue': 103, 'cost': 98},\n",
    "'yandex': {'revenue': 179, 'cost': 153},\n",
    "'facebook': {'revenue': 103, 'cost': 110},\n",
    "'adwords': {'revenue': 35, 'cost': 34},\n",
    "'twitter': {'revenue': 11, 'cost': 24}\n",
    "}\n",
    "\n",
    "for i in results.keys():\n",
    "    results[i].setdefault('ROI',(results[i]['revenue']/results[i]['cost']-1)*100)\n",
    "print(results)"
   ]
  },
  {
   "cell_type": "code",
   "execution_count": 13,
   "id": "74992ac3",
   "metadata": {},
   "outputs": [
    {
     "name": "stdout",
     "output_type": "stream",
     "text": [
      "Максимальный объем продаж на рекламном канале: vk\n"
     ]
    }
   ],
   "source": [
    "#задание4\n",
    "stats = {'facebook': 55, 'yandex': 115, 'vk': 120, 'google': 99, 'email': 42, 'ok': 98}\n",
    "st=[]\n",
    "m_zn=0\n",
    "\n",
    "for i in stats.keys():\n",
    "    if m_zn<stats[i]:\n",
    "        m_zn=stats[i]\n",
    "        ind=i        \n",
    "print('Максимальный объем продаж на рекламном канале:',ind)"
   ]
  }
 ],
 "metadata": {
  "kernelspec": {
   "display_name": "Python 3",
   "language": "python",
   "name": "python3"
  },
  "language_info": {
   "codemirror_mode": {
    "name": "ipython",
    "version": 3
   },
   "file_extension": ".py",
   "mimetype": "text/x-python",
   "name": "python",
   "nbconvert_exporter": "python",
   "pygments_lexer": "ipython3",
   "version": "3.8.8"
  }
 },
 "nbformat": 4,
 "nbformat_minor": 5
}
