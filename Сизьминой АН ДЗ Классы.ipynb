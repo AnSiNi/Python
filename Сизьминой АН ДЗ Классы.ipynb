{
 "cells": [
  {
   "cell_type": "code",
   "execution_count": 9,
   "id": "5218402e",
   "metadata": {},
   "outputs": [],
   "source": [
    "import requests\n",
    "import time"
   ]
  },
  {
   "cell_type": "code",
   "execution_count": 136,
   "id": "c2ab860a",
   "metadata": {},
   "outputs": [],
   "source": [
    "class Rate():\n",
    "    def __init__(self):\n",
    "        self.diff = ''\n",
    "    \n",
    "    def get_rate(self):\n",
    "        \"\"\" Обращается к внешнему сервису за курсами\"\"\"\n",
    "        for i in range(10):\n",
    "            try:\n",
    "                #захват данных с сайта с ожиданием в 10 сек\n",
    "                curr_name = requests.get('https://www.cbr-xml-daily.ru/daily_json.js',timeout = 10).json()['Valute'] \n",
    "                return curr_name\n",
    "            except:\n",
    "                time.sleep(2**i)\n",
    "                pass\n",
    "    \n",
    "    def max_val(self):\n",
    "        \"\"\"\n",
    "        Задание 1\n",
    "         Напишите функцию, которая возвращает название валюты (поле ‘Name’) с максимальным значением курса с \n",
    "         помощью сервиса www.cbr-xml-daily.ru...ly_json.js\n",
    "         Достает максимальное знаечение валюты\n",
    "        \"\"\"\n",
    "        curr_dict = self.get_rate()\n",
    "        max_val = 0\n",
    "        max_cur = ''\n",
    "        for key,val in curr_dict.items():\n",
    "                if max_val < val['Value']:\n",
    "                    max_val = val['Value'] \n",
    "                    max_cur = key\n",
    "        return max_val,max_cur\n",
    "    \n",
    "    def get_info_cur(self,cur):\n",
    "        \"\"\"\n",
    "        Возвращает инфо по валюте в зависимости от параметра diff:\n",
    "        diff = True - разность с пердудыщим курсом\n",
    "        diff = False - текущий курс\n",
    "        diff = '' - (по умолчанию) все данные о валюте\n",
    "        \n",
    "        Задание 2\n",
    "        Добавьте в класс Rate параметр diff (со значениями True или False), \n",
    "        который в случае значения True в методах курсов валют (eur, usd итд) \n",
    "        будет возвращать не курс валюты, а изменение по сравнению в прошлым значением. \n",
    "        Считайте, self.diff будет принимать значение True только при возврате значения курса. \n",
    "        При отображении всей информации о валюте он не используется.\n",
    "        \"\"\"\n",
    "        curr_dict = self.get_rate()\n",
    "        \n",
    "        if cur in curr_dict:\n",
    "            if self.diff:\n",
    "                return curr_dict[cur]['Previous']-curr_dict[cur]['Value'] #разность с предыдущим значением\n",
    "            elif self.diff == False:\n",
    "                return curr_dict[cur]['Value'] #курс текущий\n",
    "            else:\n",
    "                return curr_dict[cur]#вся инфо по валюте\n",
    "        return 'No currency' \n",
    "    \n",
    "    def usd(self):\n",
    "        return self.get_info_cur('USD')\n",
    "    \n",
    "    def eur(self):\n",
    "        return self.get_info_cur('EUR')"
   ]
  },
  {
   "cell_type": "code",
   "execution_count": 137,
   "id": "b0fe32a5",
   "metadata": {},
   "outputs": [],
   "source": [
    "cur = Rate()"
   ]
  },
  {
   "cell_type": "code",
   "execution_count": 138,
   "id": "4748e147",
   "metadata": {},
   "outputs": [
    {
     "data": {
      "text/plain": [
       "(103.9792, 'XDR')"
      ]
     },
     "execution_count": 138,
     "metadata": {},
     "output_type": "execute_result"
    }
   ],
   "source": [
    "cur.max_val()"
   ]
  },
  {
   "cell_type": "code",
   "execution_count": 139,
   "id": "bd3ceb22",
   "metadata": {},
   "outputs": [
    {
     "data": {
      "text/plain": [
       "{'ID': 'R01235',\n",
       " 'NumCode': '840',\n",
       " 'CharCode': 'USD',\n",
       " 'Nominal': 1,\n",
       " 'Name': 'Доллар США',\n",
       " 'Value': 74.2926,\n",
       " 'Previous': 73.6514}"
      ]
     },
     "execution_count": 139,
     "metadata": {},
     "output_type": "execute_result"
    }
   ],
   "source": [
    "cur.usd()"
   ]
  },
  {
   "cell_type": "code",
   "execution_count": 140,
   "id": "32eec0f8",
   "metadata": {},
   "outputs": [],
   "source": [
    "cur.diff=False"
   ]
  },
  {
   "cell_type": "code",
   "execution_count": 134,
   "id": "99a0858f",
   "metadata": {},
   "outputs": [
    {
     "data": {
      "text/plain": [
       "74.2926"
      ]
     },
     "execution_count": 134,
     "metadata": {},
     "output_type": "execute_result"
    }
   ],
   "source": [
    "cur.usd()"
   ]
  },
  {
   "cell_type": "code",
   "execution_count": 142,
   "id": "29cdde7b",
   "metadata": {},
   "outputs": [],
   "source": [
    "cur.diff=True"
   ]
  },
  {
   "cell_type": "code",
   "execution_count": 143,
   "id": "a59e200c",
   "metadata": {},
   "outputs": [
    {
     "data": {
      "text/plain": [
       "-0.6411999999999978"
      ]
     },
     "execution_count": 143,
     "metadata": {},
     "output_type": "execute_result"
    }
   ],
   "source": [
    "cur.usd()"
   ]
  },
  {
   "cell_type": "code",
   "execution_count": 144,
   "id": "757228bc",
   "metadata": {},
   "outputs": [],
   "source": [
    "cur.diff=''"
   ]
  },
  {
   "cell_type": "code",
   "execution_count": 145,
   "id": "04196d80",
   "metadata": {},
   "outputs": [
    {
     "data": {
      "text/plain": [
       "{'ID': 'R01235',\n",
       " 'NumCode': '840',\n",
       " 'CharCode': 'USD',\n",
       " 'Nominal': 1,\n",
       " 'Name': 'Доллар США',\n",
       " 'Value': 74.2926,\n",
       " 'Previous': 73.6514}"
      ]
     },
     "execution_count": 145,
     "metadata": {},
     "output_type": "execute_result"
    }
   ],
   "source": [
    "cur.usd()"
   ]
  },
  {
   "cell_type": "code",
   "execution_count": 146,
   "id": "6f007f4a",
   "metadata": {},
   "outputs": [
    {
     "data": {
      "text/plain": [
       "{'ID': 'R01239',\n",
       " 'NumCode': '978',\n",
       " 'CharCode': 'EUR',\n",
       " 'Nominal': 1,\n",
       " 'Name': 'Евро',\n",
       " 'Value': 84.0695,\n",
       " 'Previous': 83.204}"
      ]
     },
     "execution_count": 146,
     "metadata": {},
     "output_type": "execute_result"
    }
   ],
   "source": [
    "cur.eur()"
   ]
  },
  {
   "cell_type": "code",
   "execution_count": 180,
   "id": "27996fc6",
   "metadata": {},
   "outputs": [],
   "source": [
    "import sys"
   ]
  },
  {
   "cell_type": "code",
   "execution_count": 181,
   "id": "8632f6dc",
   "metadata": {},
   "outputs": [],
   "source": [
    "sys.path.append('C:\\\\Users\\\\Работяга\\\\Обучение\\\\CLASS\\\\libs')"
   ]
  },
  {
   "cell_type": "code",
   "execution_count": 182,
   "id": "c8be30e2",
   "metadata": {},
   "outputs": [],
   "source": [
    "from Empl import Employee"
   ]
  },
  {
   "cell_type": "code",
   "execution_count": 188,
   "id": "7a76b278",
   "metadata": {},
   "outputs": [],
   "source": [
    "a = Employee('Вася', 1)"
   ]
  },
  {
   "cell_type": "code",
   "execution_count": 189,
   "id": "88d41cd8",
   "metadata": {},
   "outputs": [
    {
     "data": {
      "text/plain": [
       "1"
      ]
     },
     "execution_count": 189,
     "metadata": {},
     "output_type": "execute_result"
    }
   ],
   "source": [
    "a.seniority"
   ]
  },
  {
   "cell_type": "code",
   "execution_count": 200,
   "id": "f5372c01",
   "metadata": {},
   "outputs": [],
   "source": [
    "class Desinger(Employee):\n",
    "    def __init__(self,name,seniority):\n",
    "        super().__init__(name,seniority)\n",
    "        self.seniority = seniority+2\n",
    "   \n",
    "    def check_if_it_is_time_for_upgrade(self):\n",
    "        # для каждой аккредитации увеличиваем счетчик на 1\n",
    "        # пока считаем, что все дизайнеры проходят аккредитацию\n",
    "        self.seniority += 1\n",
    "        \n",
    "        # условие повышения сотрудника из презентации\n",
    "        if self.seniority % 7 == 0:\n",
    "            self.grade_up()\n",
    "            print ('Грейд повышен!')\n",
    "        # публикация результатов\n",
    "        return self.publish_grade()"
   ]
  },
  {
   "cell_type": "code",
   "execution_count": 201,
   "id": "be504bb7",
   "metadata": {},
   "outputs": [],
   "source": [
    "des = Desinger('Василиса', 1)"
   ]
  },
  {
   "cell_type": "code",
   "execution_count": 202,
   "id": "a4221c5f",
   "metadata": {},
   "outputs": [
    {
     "data": {
      "text/plain": [
       "3"
      ]
     },
     "execution_count": 202,
     "metadata": {},
     "output_type": "execute_result"
    }
   ],
   "source": [
    "des.seniority"
   ]
  },
  {
   "cell_type": "code",
   "execution_count": 203,
   "id": "d86012a1",
   "metadata": {},
   "outputs": [
    {
     "name": "stdout",
     "output_type": "stream",
     "text": [
      "Василиса 1\n",
      "Василиса 1\n",
      "Василиса 1\n",
      "Грейд повышен!\n",
      "Василиса 2\n",
      "Василиса 2\n"
     ]
    }
   ],
   "source": [
    "for _ in range(5):\n",
    "    des.check_if_it_is_time_for_upgrade()"
   ]
  },
  {
   "cell_type": "code",
   "execution_count": null,
   "id": "3ae8be42",
   "metadata": {},
   "outputs": [],
   "source": []
  }
 ],
 "metadata": {
  "kernelspec": {
   "display_name": "Python 3",
   "language": "python",
   "name": "python3"
  },
  "language_info": {
   "codemirror_mode": {
    "name": "ipython",
    "version": 3
   },
   "file_extension": ".py",
   "mimetype": "text/x-python",
   "name": "python",
   "nbconvert_exporter": "python",
   "pygments_lexer": "ipython3",
   "version": "3.8.8"
  }
 },
 "nbformat": 4,
 "nbformat_minor": 5
}
