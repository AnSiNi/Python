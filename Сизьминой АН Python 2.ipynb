{
 "cells": [
  {
   "cell_type": "code",
   "execution_count": 18,
   "id": "c4948d20",
   "metadata": {},
   "outputs": [
    {
     "name": "stdout",
     "output_type": "stream",
     "text": [
      "Введите слово (латиница):tyuirtyu\n",
      "Длина строки: 8\n",
      "ir"
     ]
    }
   ],
   "source": [
    "#Задание1\n",
    "st=input('Введите слово (латиница):')\n",
    "ln=len(str(st))\n",
    "print('Длина строки:',ln)\n",
    "l=len(str(st))%2\n",
    "if l==0:\n",
    "   pl=int(ln/2)\n",
    "   for d in [pl-1,pl]:\n",
    "          print(st[d],end='')\n",
    "          d+=1\n",
    "else:\n",
    "   pl=ln//2\n",
    "   print(st[pl])"
   ]
  },
  {
   "cell_type": "code",
   "execution_count": 4,
   "id": "cd596c48",
   "metadata": {},
   "outputs": [
    {
     "name": "stdout",
     "output_type": "stream",
     "text": [
      "Введите число:0\n",
      "Сумма элементов: 0\n"
     ]
    }
   ],
   "source": [
    "#Задание2\n",
    "a=int(input('Введите число:'))\n",
    "sp=[a]\n",
    "i=0\n",
    "while sp[i]!=0:\n",
    "      a=int(input('Введите число:'))\n",
    "      sp.append(a)\n",
    "      i+=1\n",
    "print('Сумма элементов:',sum(sp))"
   ]
  },
  {
   "cell_type": "code",
   "execution_count": 23,
   "id": "850f902e",
   "metadata": {},
   "outputs": [
    {
     "name": "stdout",
     "output_type": "stream",
     "text": [
      "Ведите список парней:‘Peter’, ‘Alex’, ‘John’, ‘Arthur’, ‘Richard’, ‘Michael’\n",
      "Ведите список девушек:‘Kate’, ‘Liza’, ‘Kira’, ‘Emma’, ‘Trisha’\n",
      "Внимание, кто-то может остаться без пары!\n"
     ]
    }
   ],
   "source": [
    "#Задание3\n",
    "import copy\n",
    "boys_s=input('Ведите список парней:')\n",
    "girls_s=input('Ведите список девушек:')\n",
    "\n",
    "boys=boys_s.split(',')\n",
    "girls=girls_s.split(',')\n",
    "\n",
    "boys_s=copy.copy(sorted(boys))\n",
    "girls_s=copy.copy(sorted(girls))\n",
    "\n",
    "len_girls_s=len(girls_s)\n",
    "len_boys_s=len(boys_s)\n",
    "\n",
    "if len_girls_s==len_boys_s:\n",
    "   for i in range(0,len_girls_s):\n",
    "       print(girls_s[i],'и',boys_s[i])\n",
    "       i+=1\n",
    "else:\n",
    "    print('Внимание, кто-то может остаться без пары!')"
   ]
  },
  {
   "cell_type": "code",
   "execution_count": 40,
   "id": "0acb5bfb",
   "metadata": {},
   "outputs": [
    {
     "name": "stdout",
     "output_type": "stream",
     "text": [
      "Средняя температура в странах:\n",
      "Thailand 23.857\n",
      "Germany 13.8\n",
      "Russia 3.714\n",
      "Poland 12.0\n"
     ]
    }
   ],
   "source": [
    "#Задание4\n",
    "countries_temperature = [\n",
    "['Thailand', [75.2, 77, 78.8, 73.4, 68, 75.2, 77]],\n",
    "['Germany', [57.2, 55.4, 59, 59, 53.6]],\n",
    "['Russia', [35.6, 37.4, 39.2, 41, 42.8, 39.2, 35.6]],\n",
    "['Poland', [50, 50, 53.6, 57.2, 55.4, 55.4]]\n",
    "]\n",
    "l=len(countries_temperature)\n",
    "if l>0:\n",
    "   print('Средняя температура в странах:')\n",
    "for i in range(0,l):\n",
    "    s=sum(countries_temperature[i][1])\n",
    "    cnt=len(countries_temperature[i][1])\n",
    "    g_c=round((s/cnt-32)/1.8 ,3)\n",
    "    print(countries_temperature[i][0],g_c)\n",
    "    i+=1        \n"
   ]
  },
  {
   "cell_type": "code",
   "execution_count": 59,
   "id": "9af19ea1",
   "metadata": {},
   "outputs": [
    {
     "name": "stdout",
     "output_type": "stream",
     "text": [
      "Введите последовательность чисел через \"пробел\":5 6 7 6 7 8 7 6 5 4 3 2 4 5\n",
      "Повторяются числа: 5 6 7 4\n"
     ]
    }
   ],
   "source": [
    "#Задание6\n",
    "str_num=input('Введите последовательность чисел через \"пробел\":')\n",
    "list_num=str_num.split(' ')\n",
    "l=len(list_num)\n",
    "p=0\n",
    "num_y=[]\n",
    "num_y.append(list_num[0])\n",
    "for i in range(0,l):\n",
    "    el=list_num[i]\n",
    "    cnt=list_num.count(el)\n",
    "    i+=1\n",
    "    if cnt>1:\n",
    "        p=1\n",
    "        if num_y.count(el)==0:           \n",
    "           num_y.append(el)\n",
    "        else:\n",
    "            continue\n",
    "if p!=0:\n",
    "    print('Повторяются числа:',' '.join(num_y))\n",
    "if p==0:\n",
    "    print('Повторов не найдено!')"
   ]
  },
  {
   "cell_type": "code",
   "execution_count": null,
   "id": "fa284724",
   "metadata": {},
   "outputs": [],
   "source": []
  }
 ],
 "metadata": {
  "kernelspec": {
   "display_name": "Python 3",
   "language": "python",
   "name": "python3"
  },
  "language_info": {
   "codemirror_mode": {
    "name": "ipython",
    "version": 3
   },
   "file_extension": ".py",
   "mimetype": "text/x-python",
   "name": "python",
   "nbconvert_exporter": "python",
   "pygments_lexer": "ipython3",
   "version": "3.8.8"
  }
 },
 "nbformat": 4,
 "nbformat_minor": 5
}
