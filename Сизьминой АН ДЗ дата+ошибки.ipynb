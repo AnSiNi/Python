{
 "cells": [
  {
   "cell_type": "markdown",
   "id": "1389e733",
   "metadata": {},
   "source": [
    "### Задание 1"
   ]
  },
  {
   "cell_type": "markdown",
   "id": "9d8b6e72",
   "metadata": {},
   "source": [
    "Печатные газеты использовали свой формат дат для каждого выпуска. Для каждой газеты из списка напишите формат указанной даты для перевода в объект datetime:\n",
    "The Moscow Times - Wednesday, October 2, 2002\n",
    "The Guardian - Friday, 11.10.13\n",
    "Daily News - Thursday, 18 August 1977"
   ]
  },
  {
   "cell_type": "code",
   "execution_count": 1,
   "id": "f41dcb79",
   "metadata": {},
   "outputs": [],
   "source": [
    "from datetime import datetime"
   ]
  },
  {
   "cell_type": "code",
   "execution_count": 24,
   "id": "75475a98",
   "metadata": {},
   "outputs": [
    {
     "name": "stdout",
     "output_type": "stream",
     "text": [
      "The Moscow Times: 2002-10-01 00:00:00\n",
      "The Guardian: 2013-10-11 00:00:00\n",
      "Daily News: 1977-08-18 00:00:00\n"
     ]
    }
   ],
   "source": [
    "#The Moscow Times\n",
    "print('The Moscow Times:',datetime.strptime('Wednesday, October 2, 2002','%A, %B %w, %Y'))\n",
    "#The Guardian\n",
    "print('The Guardian:',datetime.strptime('Friday, 11.10.13','%A, %d.%m.%y'))\n",
    "#Daily News\n",
    "print('Daily News:',datetime.strptime('Thursday, 18 August 1977','%A, %d %B %Y'))"
   ]
  },
  {
   "cell_type": "markdown",
   "id": "8c130c73",
   "metadata": {},
   "source": [
    "### Задание 2\n",
    "\n",
    "Дан поток дат в формате YYYY-MM-DD, в которых встречаются некорректные значения:\n",
    "stream = [‘2018-04-02’, ‘2018-02-29’, ‘2018-19-02’]\n",
    "Напишите функцию, которая проверяет эти даты на корректность. Т. е. для каждой даты возвращает True (дата корректна) или False (некорректная дата)."
   ]
  },
  {
   "cell_type": "code",
   "execution_count": 27,
   "id": "05395905",
   "metadata": {},
   "outputs": [
    {
     "name": "stdout",
     "output_type": "stream",
     "text": [
      "2018-04-02 True\n",
      "2018-02-29 False\n",
      "2018-19-02 False\n"
     ]
    }
   ],
   "source": [
    "stream = ['2018-04-02', '2018-02-29', '2018-19-02']\n",
    "for dt in stream:\n",
    "    try:        \n",
    "        datetime.strptime(dt,'%Y-%m-%d')\n",
    "        print(dt,True)\n",
    "    except:\n",
    "        print(dt,False)\n",
    "        pass\n",
    "        "
   ]
  },
  {
   "cell_type": "markdown",
   "id": "064fe90d",
   "metadata": {},
   "source": [
    "### Задание 3\n",
    "Напишите функцию date_range, которая возвращает список дат за период от start_date до end_date. Даты должны вводиться в формате YYYY-MM-DD. В случае неверного формата или при start_date > end_date должен возвращаться пустой список."
   ]
  },
  {
   "cell_type": "code",
   "execution_count": 35,
   "id": "8f307b14",
   "metadata": {},
   "outputs": [
    {
     "name": "stdout",
     "output_type": "stream",
     "text": [
      "Введите начальную дату:2021-10-15\n",
      "Введите конечную дату:2021-15-10\n",
      "[]\n"
     ]
    }
   ],
   "source": [
    "from datetime import timedelta\n",
    "start_date = input('Введите начальную дату:')\n",
    "end_date = input('Введите конечную дату:')\n",
    "spis_dt = []\n",
    "try:\n",
    "    start_date_dt = datetime.strptime(start_date,'%Y-%m-%d')\n",
    "    end_date_dt = datetime.strptime(end_date,'%Y-%m-%d')\n",
    "    curr_dt = start_date_dt\n",
    "    while curr_dt < end_date_dt:\n",
    "        spis_dt.append(datetime.strftime(curr_dt,'%Y-%m-%d'));\n",
    "        curr_dt += timedelta(days=1)\n",
    "    print(spis_dt)\n",
    "except:\n",
    "    spis_dt = []\n",
    "    print(spis_dt)"
   ]
  },
  {
   "cell_type": "markdown",
   "id": "b885337d",
   "metadata": {},
   "source": [
    "### Задание 4 (бонусное)"
   ]
  },
  {
   "cell_type": "code",
   "execution_count": 14,
   "id": "d7fb6e2a",
   "metadata": {},
   "outputs": [],
   "source": [
    "DEFAULT_USER_COUNT = 3\n",
    "\n",
    "def delete_and_return_last_user(region, default_list=['A100', 'A101', 'A102']):\n",
    "    \"\"\"\n",
    "    Удаляет из списка default_list последнего пользователя\n",
    "    и возвращает ID нового последнего пользователя.\n",
    "    \"\"\"\n",
    "    element_to_delete = default_list[-1]\n",
    "    default_list.remove(element_to_delete)\n",
    "    print(default_list)\n",
    "    print(DEFAULT_USER_COUNT-2)\n",
    "    return default_list[DEFAULT_USER_COUNT-2]"
   ]
  },
  {
   "cell_type": "code",
   "execution_count": 15,
   "id": "eea59bc7",
   "metadata": {},
   "outputs": [
    {
     "name": "stdout",
     "output_type": "stream",
     "text": [
      "['A100', 'A101']\n",
      "1\n"
     ]
    },
    {
     "data": {
      "text/plain": [
       "'A101'"
      ]
     },
     "execution_count": 15,
     "metadata": {},
     "output_type": "execute_result"
    }
   ],
   "source": [
    "delete_and_return_last_user(1)"
   ]
  },
  {
   "cell_type": "code",
   "execution_count": 16,
   "id": "828c2e1a",
   "metadata": {},
   "outputs": [
    {
     "name": "stdout",
     "output_type": "stream",
     "text": [
      "['A100']\n",
      "1\n"
     ]
    },
    {
     "ename": "IndexError",
     "evalue": "list index out of range",
     "output_type": "error",
     "traceback": [
      "\u001b[1;31m---------------------------------------------------------------------------\u001b[0m",
      "\u001b[1;31mIndexError\u001b[0m                                Traceback (most recent call last)",
      "\u001b[1;32m<ipython-input-16-bfb6c4f8c48e>\u001b[0m in \u001b[0;36m<module>\u001b[1;34m\u001b[0m\n\u001b[1;32m----> 1\u001b[1;33m \u001b[0mdelete_and_return_last_user\u001b[0m\u001b[1;33m(\u001b[0m\u001b[1;36m1\u001b[0m\u001b[1;33m)\u001b[0m\u001b[1;33m\u001b[0m\u001b[1;33m\u001b[0m\u001b[0m\n\u001b[0m",
      "\u001b[1;32m<ipython-input-14-e4f5bd3baad4>\u001b[0m in \u001b[0;36mdelete_and_return_last_user\u001b[1;34m(region, default_list)\u001b[0m\n\u001b[0;32m     10\u001b[0m     \u001b[0mprint\u001b[0m\u001b[1;33m(\u001b[0m\u001b[0mdefault_list\u001b[0m\u001b[1;33m)\u001b[0m\u001b[1;33m\u001b[0m\u001b[1;33m\u001b[0m\u001b[0m\n\u001b[0;32m     11\u001b[0m     \u001b[0mprint\u001b[0m\u001b[1;33m(\u001b[0m\u001b[0mDEFAULT_USER_COUNT\u001b[0m\u001b[1;33m-\u001b[0m\u001b[1;36m2\u001b[0m\u001b[1;33m)\u001b[0m\u001b[1;33m\u001b[0m\u001b[1;33m\u001b[0m\u001b[0m\n\u001b[1;32m---> 12\u001b[1;33m     \u001b[1;32mreturn\u001b[0m \u001b[0mdefault_list\u001b[0m\u001b[1;33m[\u001b[0m\u001b[0mDEFAULT_USER_COUNT\u001b[0m\u001b[1;33m-\u001b[0m\u001b[1;36m2\u001b[0m\u001b[1;33m]\u001b[0m\u001b[1;33m\u001b[0m\u001b[1;33m\u001b[0m\u001b[0m\n\u001b[0m",
      "\u001b[1;31mIndexError\u001b[0m: list index out of range"
     ]
    }
   ],
   "source": [
    "delete_and_return_last_user(1)"
   ]
  },
  {
   "cell_type": "markdown",
   "id": "691fece1",
   "metadata": {},
   "source": [
    "Ответ: \n",
    "1) \"list index out of range\" - индекс вне диапазона списка, или заданный по индексу элемент не существует \n",
    "\n",
    "\n",
    "2) При повторном запуске функции необходимо переоздавать список default_list в функции или вызывать его в delete_and_return_last_user, так как список состоит уже не из 3х элементов, а из 2 и при удалении элемента останется только 1 с индексом 0. Функция же пытается вывести элемент с 1м индексом, что и приводит в ошибке."
   ]
  }
 ],
 "metadata": {
  "kernelspec": {
   "display_name": "Python 3",
   "language": "python",
   "name": "python3"
  },
  "language_info": {
   "codemirror_mode": {
    "name": "ipython",
    "version": 3
   },
   "file_extension": ".py",
   "mimetype": "text/x-python",
   "name": "python",
   "nbconvert_exporter": "python",
   "pygments_lexer": "ipython3",
   "version": "3.8.8"
  }
 },
 "nbformat": 4,
 "nbformat_minor": 5
}
