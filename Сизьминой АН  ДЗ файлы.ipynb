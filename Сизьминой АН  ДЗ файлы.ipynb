{
 "cells": [
  {
   "cell_type": "code",
   "execution_count": 2,
   "id": "cda96bb7",
   "metadata": {},
   "outputs": [],
   "source": [
    "import os\n",
    "import json"
   ]
  },
  {
   "cell_type": "markdown",
   "id": "af604c70",
   "metadata": {},
   "source": [
    "### Задание 1\n",
    "Переведите содержимое файла purchase_log.txt в словарь purchases вида:\n",
    "\n"
   ]
  },
  {
   "cell_type": "code",
   "execution_count": 20,
   "id": "957cd35b",
   "metadata": {
    "scrolled": true
   },
   "outputs": [],
   "source": [
    "dict_ = {}\n",
    "#for file in os.listdir('Files\\Downloads'):\n",
    "with open('Files\\Downloads\\purchase_log.txt','r',encoding='utf-8') as f:\n",
    "    with open('Files\\Downloads\\purchases.txt','w') as fw:\n",
    "        for i,line in enumerate(f):\n",
    "            if i>0:\n",
    "                if len(line.split(',')) == 2:\n",
    "                #print(len(line.split(','))) # можно сделать проверку на количество ключей\n",
    "                    l_s = json.loads(line)\n",
    "                    for j,el in enumerate(l_s.items()):\n",
    "                            dict_[l_s['user_id']] = l_s['category']\n",
    "                    fw.write(json.dumps(dict_,ensure_ascii=False)+'\\n') #плюс перекодировка и конец строки \n",
    "                    dict_ = {}\n",
    "                else:\n",
    "                    print(i,'Длина строки не соответсвует формату!')\n",
    "\n"
   ]
  },
  {
   "cell_type": "markdown",
   "id": "a665be00",
   "metadata": {},
   "source": [
    "### Задание 2\n"
   ]
  },
  {
   "cell_type": "markdown",
   "id": "7b110785",
   "metadata": {},
   "source": [
    "Для каждого user_id в файле visit_log.csv определите третий столбец с категорией покупки (если покупка была, сам файл visit_log.csv изменять не надо). Запишите в файл funnel.csv визиты из файла visit_log.csv, в которых были покупки с указанием категории.\n",
    "Учтите условия на данные:\n",
    "содержимое purchase_log.txt помещается в оперативную память компьютера\n",
    "содержимое visit_log.csv - нет; используйте только построчную обработку этого файла"
   ]
  },
  {
   "cell_type": "code",
   "execution_count": null,
   "id": "549fac43",
   "metadata": {
    "scrolled": true
   },
   "outputs": [
    {
     "name": "stdout",
     "output_type": "stream",
     "text": [
      "Start!\n"
     ]
    }
   ],
   "source": [
    "list_=[]\n",
    "print('Start!')\n",
    "for line in os.listdir('Files\\Downloads'):\n",
    "    if '.csv' in line:\n",
    "           with open('Files\\\\Downloads\\\\'+line,'r') as f:\n",
    "            with open('Files\\\\Downloads\\\\funnel.csv','w') as f_w:\n",
    "                f_r = open('Files\\Downloads\\purchase_log.txt',encoding='utf-8')\n",
    "                content = f_r.readlines() #считываем файл в переменную\n",
    "                for i,line in enumerate(f): #переход по строкам файла visit_log.csv\n",
    "                    if i > 0:\n",
    "                        list_=line.strip().split(',')\n",
    "                        for j in range(len(content)): #переход по строкам файла purchase_log.txt\n",
    "                            ln = json.loads(content[j]) #преобразуем к словарю\n",
    "\n",
    "                            if list_[0] == ln['user_id']:\n",
    "                                list_.append(ln['category'])\n",
    "                                f_w.write(json.dumps(list_,ensure_ascii=False)+'\\n')\n",
    "                            #if  j == 5:\n",
    "                            #    break\n",
    "                        #if  i == 1000:\n",
    "                         #   break\n",
    "                f_r.close()\n",
    "                content.clear()\n",
    "print('Done!')\n",
    "#content.__sizeof__()            "
   ]
  },
  {
   "cell_type": "code",
   "execution_count": null,
   "id": "4b23ed1c",
   "metadata": {},
   "outputs": [],
   "source": []
  }
 ],
 "metadata": {
  "kernelspec": {
   "display_name": "Python 3",
   "language": "python",
   "name": "python3"
  },
  "language_info": {
   "codemirror_mode": {
    "name": "ipython",
    "version": 3
   },
   "file_extension": ".py",
   "mimetype": "text/x-python",
   "name": "python",
   "nbconvert_exporter": "python",
   "pygments_lexer": "ipython3",
   "version": "3.8.8"
  }
 },
 "nbformat": 4,
 "nbformat_minor": 5
}
