{
 "cells": [
  {
   "cell_type": "code",
   "execution_count": null,
   "id": "32f2bd9d",
   "metadata": {},
   "outputs": [],
   "source": [
    "phrase_1 =input('Введите первую строку: ') \n",
    "phrase_2 =input('Введите вторую строку: ') \n",
    "\n",
    "if len(phrase_1)>len(phrase_2):\n",
    "    print('Фраза 1 длиннее фразы 2')\n",
    "elif len(phrase_1)<len(phrase_2):\n",
    "    print('Фраза 2 длиннее фразы 1')\n",
    "elif len(phrase_1)==len(phrase_2): \n",
    "    print('Фразы равной длины')\n",
    "else:\n",
    "    print('Длину фразы 1:',phrase_2,' и длину фразы 2:',phrase_2 ,'определить не удалось')"
   ]
  },
  {
   "cell_type": "code",
   "execution_count": 1,
   "id": "7c175a57",
   "metadata": {},
   "outputs": [
    {
     "name": "stdout",
     "output_type": "stream",
     "text": [
      "Введите год: 2020\n",
      "Количество дней в 2020 году = 366\n",
      "Високосный год\n"
     ]
    }
   ],
   "source": [
    "from calendar import Calendar\n",
    "c = Calendar()\n",
    "y=int(input('Введите год: '))\n",
    "d=max(c.itermonthdays(y,1))+max(c.itermonthdays(y,2))+max(c.itermonthdays(y,3))+max(c.itermonthdays(y,4))+max(c.itermonthdays(y,5))+max(c.itermonthdays(y,6))+max(c.itermonthdays(y,7))+max(c.itermonthdays(y,8))+max(c.itermonthdays(y,9))+max(c.itermonthdays(y,10))+max(c.itermonthdays(y,11))+max(c.itermonthdays(y,12))\n",
    "print('Количество дней в',y,'году =',d)\n",
    "pr_v=d%2\n",
    "if pr_v>0:\n",
    "   print('Обычный год')\n",
    "else:\n",
    "   print('Високосный год')"
   ]
  },
  {
   "cell_type": "code",
   "execution_count": 1,
   "id": "0a8c321f",
   "metadata": {},
   "outputs": [
    {
     "name": "stdout",
     "output_type": "stream",
     "text": [
      "Введите день рождения:15\n",
      "Введите месяц рождения (напр., Октябрь):Октябрь\n",
      "Весы\n"
     ]
    }
   ],
   "source": [
    "d=int(input('Введите день рождения:'))\n",
    "m=input('Введите месяц рождения (напр., Октябрь):')\n",
    "if m=='Март':\n",
    "   if 1<=d<=20:\n",
    "    print('Рыбы')\n",
    "   if 21<=d<=31:\n",
    "    print('Овен')\n",
    "if m=='Апрель':\n",
    "   if 1<=d<=19:\n",
    "    print('Овен')\n",
    "   if 20<=d<=30:\n",
    "    print('Телец')\n",
    "if m=='Май':\n",
    "   if 1<=d<=20:\n",
    "    print('Телец')\n",
    "   if 21<=d<=31:\n",
    "    print('Близнецы')\n",
    "if m=='Июнь':\n",
    "   if 1<=d<=21:\n",
    "    print('Близнецы')\n",
    "   if 22<=d<=30:\n",
    "    print('Рак')\n",
    "if m=='Июль':\n",
    "   if 1<=d<=22:\n",
    "    print('Рак')\n",
    "   if 23<=d<=31:\n",
    "    print('Лев')\n",
    "if m=='Август':\n",
    "   if 1<=d<=22:\n",
    "    print('Лев')\n",
    "   if 23<=d<=30:\n",
    "    print('Дева')\n",
    "if m=='Сентябрь':\n",
    "   if 1<=d<=22:\n",
    "    print('Дева')\n",
    "   if 23<=d<=30:\n",
    "    print('Весы')\n",
    "if m=='Октябрь':\n",
    "   if 1<=d<=23:\n",
    "    print('Весы')\n",
    "   if 24<=d<=30:\n",
    "    print('Скорпион')\n",
    "if m=='Ноябрь':\n",
    "   if 1<=d<=22:\n",
    "    print('Скорпион')\n",
    "   if 23<=d<=30:\n",
    "    print('Стрелец')\n",
    "if m=='Декабрь':\n",
    "   if 1<=d<=21:\n",
    "    print('Стрелец')\n",
    "   if 22<=d<=31:\n",
    "    print('Козерог')\n",
    "if m=='Январь':\n",
    "   if 1<=d<=20:\n",
    "    print('Козерог')\n",
    "   if 21<=d<=31:\n",
    "    print('Водолей')\n",
    "if m=='Февраль':\n",
    "   if 1<=d<=18:\n",
    "    print('Водолей')\n",
    "   if 19<=d<=29:\n",
    "    print('Рыбы')\n",
    "if m=='Февраль':\n",
    "   if 1<=d<=18:\n",
    "    print('Водолей')\n",
    "   if 19<=d<=29:\n",
    "    print('Рыбы')"
   ]
  },
  {
   "cell_type": "code",
   "execution_count": 1,
   "id": "72fcd1a7",
   "metadata": {},
   "outputs": [
    {
     "name": "stdout",
     "output_type": "stream",
     "text": [
      "Width:10\n",
      "length:200\n",
      "height:45\n",
      "Коробка№2\n",
      "Упаковка для лыж\n"
     ]
    }
   ],
   "source": [
    "width = int(input('Width:'))\n",
    "length = int(input('length:'))\n",
    "height = int(input('height:'))\n",
    "if width<15 and length<15 and height<15:\n",
    "   print ('Коробка№1')\n",
    "if 15<width<50 or 15<length<50 or 15<height<50:\n",
    "   print ('Коробка№2')\n",
    "if (width+length+height)>200:\n",
    "   print ('Упаковка для лыж')\n",
    "else:\n",
    "   print ('Стандартная коробка №3')"
   ]
  },
  {
   "cell_type": "code",
   "execution_count": 5,
   "id": "21024b5a",
   "metadata": {},
   "outputs": [
    {
     "name": "stdout",
     "output_type": "stream",
     "text": [
      "ВВедите номер билета:8956321145\n",
      "Билет не счастливый(\n"
     ]
    }
   ],
   "source": [
    "nom=input('ВВедите номер билета:')\n",
    "l=len(nom)\n",
    "l2=int(l/2)\n",
    "n1=0\n",
    "n2=0\n",
    "for i in range(0,l2):\n",
    "    n1=n1+int(str(nom)[i])\n",
    "for i in range(l2,l):\n",
    "    n2=n2+int(str(nom)[i])\n",
    "if n1==n2:\n",
    "   print('Билет счастливый!')\n",
    "else:\n",
    "   print('Билет не счастливый(')"
   ]
  },
  {
   "cell_type": "code",
   "execution_count": null,
   "id": "2f817308",
   "metadata": {},
   "outputs": [],
   "source": []
  }
 ],
 "metadata": {
  "kernelspec": {
   "display_name": "Python 3",
   "language": "python",
   "name": "python3"
  },
  "language_info": {
   "codemirror_mode": {
    "name": "ipython",
    "version": 3
   },
   "file_extension": ".py",
   "mimetype": "text/x-python",
   "name": "python",
   "nbconvert_exporter": "python",
   "pygments_lexer": "ipython3",
   "version": "3.8.8"
  }
 },
 "nbformat": 4,
 "nbformat_minor": 5
}
