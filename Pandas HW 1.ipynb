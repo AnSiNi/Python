{
 "cells": [
  {
   "cell_type": "code",
   "execution_count": 4,
   "id": "7e94a59e",
   "metadata": {},
   "outputs": [],
   "source": [
    "import pandas as pd"
   ]
  },
  {
   "cell_type": "markdown",
   "id": "4631306a",
   "metadata": {},
   "source": [
    "### Задание 1\n",
    "Скачайте с сайта grouplens.org...movielens/ датасет любого размера. Определите какому фильму было выставлено больше всего оценок 5.0."
   ]
  },
  {
   "cell_type": "code",
   "execution_count": 41,
   "id": "dca29fd5",
   "metadata": {},
   "outputs": [],
   "source": [
    "rating = pd.read_csv('C://Users//Работяга//Обучение//Pandas//ml-latest-small//ml-latest-small//ratings.csv',skiprows=0)\n",
    "films = pd.read_csv('C://Users//Работяга//Обучение//Pandas//ml-latest-small//ml-latest-small//movies.csv',skiprows=0)"
   ]
  },
  {
   "cell_type": "code",
   "execution_count": 138,
   "id": "1a36adf5",
   "metadata": {},
   "outputs": [
    {
     "name": "stdout",
     "output_type": "stream",
     "text": [
      "277    Shawshank Redemption, The (1994)\n",
      "Name: title, dtype: object\n"
     ]
    }
   ],
   "source": [
    "rating=rating[rating.rating == 5.0] #определяем строки только с оценкой 5\n",
    "a = rating['movieId'].value_counts().head(1)#находим фильм с наибольшим количеством строк - берем первую строку, получаем словарь\n",
    "print(films[films.movieId == list(a.index)[0]]['title']) #выводим название - индекс словаря (кортеж) переводим в список и берем первый элемент"
   ]
  },
  {
   "cell_type": "markdown",
   "id": "894c03e8",
   "metadata": {},
   "source": [
    "### Задание 2\n",
    "По данным файла power.csv посчитайте суммарное потребление стран Прибалтики (Латвия, Литва и Эстония) категорий 4, 12 и 21 за период с 2005 по 2010 года. Не учитывайте в расчетах отрицательные значения quantity."
   ]
  },
  {
   "cell_type": "code",
   "execution_count": 198,
   "id": "21f51f14",
   "metadata": {},
   "outputs": [],
   "source": [
    "country = pd.read_csv('C://Users//Работяга//Обучение//Pandas//10._Основы_pandas//power.csv',skiprows=0)"
   ]
  },
  {
   "cell_type": "code",
   "execution_count": 219,
   "id": "98a5a2dd",
   "metadata": {},
   "outputs": [
    {
     "name": "stdout",
     "output_type": "stream",
     "text": [
      "5080225680.690798\n"
     ]
    }
   ],
   "source": [
    "country_sum = sum(country[(country.year >= 2005) & (country.year <= 2010) & ((country.category == 4) \\\n",
    "                  | (country.category == 12) | (country.category == 21)) & (country.quantity > 0)]['quantity'])\n",
    "print(country_sum)"
   ]
  },
  {
   "cell_type": "markdown",
   "id": "8f3c88eb",
   "metadata": {},
   "source": [
    "### Задание 3\n",
    "Выберите страницу любого сайта с табличными данными. Импортируйте таблицы в pandas dataframe.\n",
    "Примеры страниц (необязательно брать именно эти):\n",
    "https://fortrader.org/quotes\n",
    "www.finanz.ru...om-vremeni"
   ]
  },
  {
   "cell_type": "code",
   "execution_count": 247,
   "id": "74f49f80",
   "metadata": {},
   "outputs": [],
   "source": [
    "html1 = pd.read_html('https://fortrader.org/quotes')[2]\n",
    "html2 = pd.read_html('https://www.finanz.ru/valyuty/v-realnom-vremeni',encoding='utf-8')[0]"
   ]
  },
  {
   "cell_type": "code",
   "execution_count": 248,
   "id": "cee9ef88",
   "metadata": {},
   "outputs": [
    {
     "data": {
      "text/html": [
       "<div>\n",
       "<style scoped>\n",
       "    .dataframe tbody tr th:only-of-type {\n",
       "        vertical-align: middle;\n",
       "    }\n",
       "\n",
       "    .dataframe tbody tr th {\n",
       "        vertical-align: top;\n",
       "    }\n",
       "\n",
       "    .dataframe thead th {\n",
       "        text-align: right;\n",
       "    }\n",
       "</style>\n",
       "<table border=\"1\" class=\"dataframe\">\n",
       "  <thead>\n",
       "    <tr style=\"text-align: right;\">\n",
       "      <th></th>\n",
       "      <th>0</th>\n",
       "      <th>1</th>\n",
       "      <th>2</th>\n",
       "      <th>3</th>\n",
       "      <th>4</th>\n",
       "      <th>5</th>\n",
       "      <th>6</th>\n",
       "      <th>7</th>\n",
       "      <th>8</th>\n",
       "      <th>9</th>\n",
       "      <th>10</th>\n",
       "      <th>11</th>\n",
       "    </tr>\n",
       "  </thead>\n",
       "  <tbody>\n",
       "    <tr>\n",
       "      <th>0</th>\n",
       "      <td>ММВБ</td>\n",
       "      <td>3 597</td>\n",
       "      <td>-2,1%</td>\n",
       "      <td>Nasdaq</td>\n",
       "      <td>14 894</td>\n",
       "      <td>0,6%</td>\n",
       "      <td>Биткойн</td>\n",
       "      <td>42 738</td>\n",
       "      <td>-0,9%</td>\n",
       "      <td>USD/RUB</td>\n",
       "      <td>761195</td>\n",
       "      <td>-0,5%</td>\n",
       "    </tr>\n",
       "    <tr>\n",
       "      <th>1</th>\n",
       "      <td>РТС</td>\n",
       "      <td>1 486</td>\n",
       "      <td>-2,1%</td>\n",
       "      <td>S&amp;P500</td>\n",
       "      <td>4 663</td>\n",
       "      <td>0,1%</td>\n",
       "      <td>Нефть</td>\n",
       "      <td>862</td>\n",
       "      <td>-0,3%</td>\n",
       "      <td>EUR/RUB</td>\n",
       "      <td>869620</td>\n",
       "      <td>-0,2%</td>\n",
       "    </tr>\n",
       "    <tr>\n",
       "      <th>2</th>\n",
       "      <td>Dow</td>\n",
       "      <td>35 912</td>\n",
       "      <td>-0,6%</td>\n",
       "      <td>FTSE100</td>\n",
       "      <td>7 543</td>\n",
       "      <td>-0,3%</td>\n",
       "      <td>Золото</td>\n",
       "      <td>1 819</td>\n",
       "      <td>0,1%</td>\n",
       "      <td>EUR/USD</td>\n",
       "      <td>11419</td>\n",
       "      <td>0,0%</td>\n",
       "    </tr>\n",
       "  </tbody>\n",
       "</table>\n",
       "</div>"
      ],
      "text/plain": [
       "     0       1      2        3       4      5        6       7      8   \\\n",
       "0  ММВБ   3 597  -2,1%   Nasdaq  14 894   0,6%  Биткойн  42 738  -0,9%   \n",
       "1   РТС   1 486  -2,1%   S&P500   4 663   0,1%    Нефть     862  -0,3%   \n",
       "2   Dow  35 912  -0,6%  FTSE100   7 543  -0,3%   Золото   1 819   0,1%   \n",
       "\n",
       "        9       10     11  \n",
       "0  USD/RUB  761195  -0,5%  \n",
       "1  EUR/RUB  869620  -0,2%  \n",
       "2  EUR/USD   11419   0,0%  "
      ]
     },
     "execution_count": 248,
     "metadata": {},
     "output_type": "execute_result"
    }
   ],
   "source": [
    "html2"
   ]
  },
  {
   "cell_type": "code",
   "execution_count": 249,
   "id": "3490aa04",
   "metadata": {},
   "outputs": [
    {
     "data": {
      "text/html": [
       "<div>\n",
       "<style scoped>\n",
       "    .dataframe tbody tr th:only-of-type {\n",
       "        vertical-align: middle;\n",
       "    }\n",
       "\n",
       "    .dataframe tbody tr th {\n",
       "        vertical-align: top;\n",
       "    }\n",
       "\n",
       "    .dataframe thead th {\n",
       "        text-align: right;\n",
       "    }\n",
       "</style>\n",
       "<table border=\"1\" class=\"dataframe\">\n",
       "  <thead>\n",
       "    <tr style=\"text-align: right;\">\n",
       "      <th></th>\n",
       "      <th>Название</th>\n",
       "      <th>Цена</th>\n",
       "      <th>Изменение</th>\n",
       "      <th>Изменение(%)</th>\n",
       "      <th>Обновлено</th>\n",
       "    </tr>\n",
       "  </thead>\n",
       "  <tbody>\n",
       "    <tr>\n",
       "      <th>0</th>\n",
       "      <td>Золото Цена золота на бирже</td>\n",
       "      <td>1 820</td>\n",
       "      <td>2.00</td>\n",
       "      <td>0.00</td>\n",
       "      <td>NaN</td>\n",
       "    </tr>\n",
       "    <tr>\n",
       "      <th>1</th>\n",
       "      <td>Серебро Цена на серебро на бирже</td>\n",
       "      <td>23.00</td>\n",
       "      <td>0.06</td>\n",
       "      <td>0.28</td>\n",
       "      <td>NaN</td>\n",
       "    </tr>\n",
       "    <tr>\n",
       "      <th>2</th>\n",
       "      <td>Палладий Цена на Палладий</td>\n",
       "      <td>1 870</td>\n",
       "      <td>-4.00</td>\n",
       "      <td>-0.00</td>\n",
       "      <td>NaN</td>\n",
       "    </tr>\n",
       "    <tr>\n",
       "      <th>3</th>\n",
       "      <td>Платина Цены на платину</td>\n",
       "      <td>970</td>\n",
       "      <td>4.00</td>\n",
       "      <td>0.00</td>\n",
       "      <td>NaN</td>\n",
       "    </tr>\n",
       "    <tr>\n",
       "      <th>4</th>\n",
       "      <td>Медь Цена меди на бирже</td>\n",
       "      <td>4.43</td>\n",
       "      <td>-0.01</td>\n",
       "      <td>-0.32</td>\n",
       "      <td>NaN</td>\n",
       "    </tr>\n",
       "  </tbody>\n",
       "</table>\n",
       "</div>"
      ],
      "text/plain": [
       "                           Название   Цена  Изменение  Изменение(%)  Обновлено\n",
       "0       Золото Цена золота на бирже  1 820       2.00          0.00        NaN\n",
       "1  Серебро Цена на серебро на бирже  23.00       0.06          0.28        NaN\n",
       "2         Палладий Цена на Палладий  1 870      -4.00         -0.00        NaN\n",
       "3           Платина Цены на платину    970       4.00          0.00        NaN\n",
       "4           Медь Цена меди на бирже   4.43      -0.01         -0.32        NaN"
      ]
     },
     "execution_count": 249,
     "metadata": {},
     "output_type": "execute_result"
    }
   ],
   "source": [
    "html1"
   ]
  },
  {
   "cell_type": "code",
   "execution_count": null,
   "id": "126bd1fb",
   "metadata": {},
   "outputs": [],
   "source": []
  }
 ],
 "metadata": {
  "kernelspec": {
   "display_name": "Python 3",
   "language": "python",
   "name": "python3"
  },
  "language_info": {
   "codemirror_mode": {
    "name": "ipython",
    "version": 3
   },
   "file_extension": ".py",
   "mimetype": "text/x-python",
   "name": "python",
   "nbconvert_exporter": "python",
   "pygments_lexer": "ipython3",
   "version": "3.8.8"
  }
 },
 "nbformat": 4,
 "nbformat_minor": 5
}
